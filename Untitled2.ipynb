{
  "nbformat": 4,
  "nbformat_minor": 0,
  "metadata": {
    "colab": {
      "name": "Untitled2.ipynb",
      "provenance": [],
      "authorship_tag": "ABX9TyMJkGC5HrbR5LKccY0msly1",
      "include_colab_link": true
    },
    "kernelspec": {
      "name": "python3",
      "display_name": "Python 3"
    },
    "language_info": {
      "name": "python"
    }
  },
  "cells": [
    {
      "cell_type": "markdown",
      "metadata": {
        "id": "view-in-github",
        "colab_type": "text"
      },
      "source": [
        "<a href=\"https://colab.research.google.com/github/luizscoimbra/Exercicio-python/blob/main/Untitled2.ipynb\" target=\"_parent\"><img src=\"https://colab.research.google.com/assets/colab-badge.svg\" alt=\"Open In Colab\"/></a>"
      ]
    },
    {
      "cell_type": "code",
      "metadata": {
        "colab": {
          "base_uri": "https://localhost:8080/"
        },
        "id": "9kVHbv0-wJN8",
        "outputId": "90fd620b-0475-472b-cbe9-97c16e193a6d"
      },
      "source": [
        "print('''\n",
        "Investigação de suspeitos\n",
        "\n",
        "Você precisará responder as perguntas abaixo para nos ajudar a desvendar esse crime.\n",
        "\n",
        "1 - Você telefonou para a vitima?\n",
        "2 - Você esteve no local do crime?\n",
        "3 - Você mora perto da vítima?\n",
        "5 - Você devia para a vítima?\n",
        "6 - Você ja trabalhou com a vítima?''')\n",
        "\n",
        "print('Vamos lá? Responda apenas SIM ou NÃO')\n",
        "\n",
        "q1 = print(input(\"Você telefonou para a vítima?\").lower()[0])\n",
        "q2 = print(input(\"Você esteve no local do crime?\").lower()[0])\n",
        "q3 = print(input(\"Você mora perto da vítima?\").lower()[0])\n",
        "q4 = print(input(\"Você devia para a vítima?\").lower()[0])\n",
        "q5 = print(input(\"Você trabalhou com a vítima?\").lower()[0])\n",
        "\n",
        "var1 = 0\n",
        "if q1 == \"s\":\n",
        "  var1 = var1 + 1\n",
        "if q2 == \"s\":\n",
        "  var1 =  var1 + 1\n",
        "if q3 == \"s\":\n",
        "  var1 =  var1 + 1\n",
        "if q4 == \"s\":\n",
        "  var1 =  var1 + 1\n",
        "if q5 == \"s\":\n",
        "  var1 =  var1 + 1\n",
        "\n",
        "if var1 == 1:\n",
        "  print(\"Inocente\")\n",
        "elif var1 == 2:\n",
        "  print(\"Suspeita\")\n",
        "elif var1 == 5:\n",
        "  print(\"Assassino\")\n",
        "else:\n",
        "  print(\"Cúmplice\")\n",
        "\n",
        "\n",
        "\n",
        "\n",
        "\n",
        "  "
      ],
      "execution_count": 12,
      "outputs": [
        {
          "output_type": "stream",
          "text": [
            "\n",
            "Investigação de suspeitos\n",
            "\n",
            "Você precisará responder as perguntas abaixo para nos ajudar a desvendar esse crime.\n",
            "\n",
            "1 - Você telefonou para a vitima?\n",
            "2 - Você esteve no local do crime?\n",
            "3 - Você mora perto da vítima?\n",
            "5 - Você devia para a vítima?\n",
            "6 - Você ja trabalhou com a vítima?\n",
            "Vamos lá? Responda apenas SIM ou NÃO\n",
            "Você telefonou para a vítima?sim\n",
            "s\n",
            "Você esteve no local do crime?sim\n",
            "s\n",
            "Você mora perto da vítima?sim\n",
            "s\n",
            "Você devia para a vítima?sim\n",
            "s\n",
            "Você trabalhou com a vítima?sim\n",
            "s\n",
            "Cúmplice\n"
          ],
          "name": "stdout"
        }
      ]
    }
  ]
}