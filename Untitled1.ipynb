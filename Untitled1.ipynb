{
  "nbformat": 4,
  "nbformat_minor": 0,
  "metadata": {
    "colab": {
      "name": "Untitled1.ipynb",
      "provenance": [],
      "authorship_tag": "ABX9TyPLeGBP9YR14UdU2jkWfx63",
      "include_colab_link": true
    },
    "kernelspec": {
      "name": "python3",
      "display_name": "Python 3"
    },
    "language_info": {
      "name": "python"
    }
  },
  "cells": [
    {
      "cell_type": "markdown",
      "metadata": {
        "id": "view-in-github",
        "colab_type": "text"
      },
      "source": [
        "<a href=\"https://colab.research.google.com/github/luizscoimbra/Exercicio-python/blob/main/Untitled1.ipynb\" target=\"_parent\"><img src=\"https://colab.research.google.com/assets/colab-badge.svg\" alt=\"Open In Colab\"/></a>"
      ]
    },
    {
      "cell_type": "code",
      "metadata": {
        "colab": {
          "base_uri": "https://localhost:8080/"
        },
        "id": "5-0MvDRG-w3T",
        "outputId": "bdbee5df-aaff-4553-e4e3-1f5b15bf65a4"
      },
      "source": [
        "n1 = float(input('Digite a primeira nota: '))\n",
        "n2 = float(input('Digite a segunda nota: '))\n",
        "media = (n1+n2)/2\n",
        "\n",
        "print(f'A sua média é {media:.2f}')\n",
        "\n",
        "if media >= 6:\n",
        "  print('Aluno aprovado!')\n",
        "else:\n",
        "  print('Aluno reprovado')"
      ],
      "execution_count": 8,
      "outputs": [
        {
          "output_type": "stream",
          "text": [
            "Digite a primeira nota: 2\n",
            "Digite a segunda nota: 3\n",
            "A sua média é 2.50\n",
            "Aluno reprovado\n"
          ],
          "name": "stdout"
        }
      ]
    },
    {
      "cell_type": "code",
      "metadata": {
        "colab": {
          "base_uri": "https://localhost:8080/"
        },
        "id": "OU-CeQzcDZEO",
        "outputId": "feaabcc8-8aa6-41c0-c19e-453f05ac6390"
      },
      "source": [
        "num = int(input(\"Digite um número: \"))\n",
        "if (num % 2 == 0):\n",
        "    print(\"Número par.\")\n",
        "else:\n",
        "    print(\"Número ímpar\")\n",
        "\n"
      ],
      "execution_count": 21,
      "outputs": [
        {
          "output_type": "stream",
          "text": [
            "Digite um número: 5\n",
            "Número ímpar\n"
          ],
          "name": "stdout"
        }
      ]
    },
    {
      "cell_type": "code",
      "metadata": {
        "colab": {
          "base_uri": "https://localhost:8080/"
        },
        "id": "XW0SyVnzGhZ2",
        "outputId": "e4d40791-135c-4b2d-cf3c-5986093346e7"
      },
      "source": [
        "numero = float(input('Digite um valor: '))\n",
        "\n",
        "if numero == 0:\n",
        "  print('Numero neutro')\n",
        "else:\n",
        "  if numero > 0:\n",
        "    print('Positivo')\n",
        "  else:\n",
        "    print('Negativo')"
      ],
      "execution_count": 34,
      "outputs": [
        {
          "output_type": "stream",
          "text": [
            "Digite um valor: -5\n",
            "Negativo\n"
          ],
          "name": "stdout"
        }
      ]
    }
  ]
}