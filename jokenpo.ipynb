{
  "nbformat": 4,
  "nbformat_minor": 0,
  "metadata": {
    "colab": {
      "name": "Untitled4.ipynb",
      "provenance": [],
      "authorship_tag": "ABX9TyPBAx1H6hYoRN48EyT1UPLH",
      "include_colab_link": true
    },
    "kernelspec": {
      "name": "python3",
      "display_name": "Python 3"
    },
    "language_info": {
      "name": "python"
    }
  },
  "cells": [
    {
      "cell_type": "markdown",
      "metadata": {
        "id": "view-in-github",
        "colab_type": "text"
      },
      "source": [
        "<a href=\"https://colab.research.google.com/github/luizscoimbra/Exercicio-python/blob/main/jokenpo.ipynb\" target=\"_parent\"><img src=\"https://colab.research.google.com/assets/colab-badge.svg\" alt=\"Open In Colab\"/></a>"
      ]
    },
    {
      "cell_type": "code",
      "metadata": {
        "id": "FkGrV2fjv3dh"
      },
      "source": [
        "\n",
        "from random import randint\n",
        "from time import sleep\n",
        "\n",
        "jogar = 'S'\n",
        "jogador_vence = comp_vence = empate = 0\n",
        "\n",
        "while jogar == 'S':\n",
        "    pedra = ('Pedra')\n",
        "    papel = ('Papel')\n",
        "    tesoura = ('Tesoura')\n",
        "    opcoes = (pedra, papel, tesoura)\n",
        "    computador = randint(0, 2)\n",
        "    print('''------JOKENPÔ------\n",
        "Escolha sua jogada:\n",
        "[ 0 ] PEDRA\n",
        "[ 1 ] PAPEL\n",
        "[ 2 ] TESOURA''')\n",
        "    jogador = ''\n",
        "    lista = [0, 1, 2]\n",
        "    jogador = int(input('Escolha sua opção! '))\n",
        "    while jogador not in lista:\n",
        "        jogador = int(input('Digite um valor válido [0, 1 ou 2]. Qual é a sua jogada? '))\n",
        "    print('PEDRA')\n",
        "    sleep(.3)\n",
        "    print('PAPEL')\n",
        "    sleep(.3)\n",
        "    print('[TESOURA!')\n",
        "    print(f'\\nComputador jogou {opcoes[computador]}.')\n",
        "    print(f'Você jogou {opcoes[jogador]}.\\n')\n",
        "\n",
        "    if computador == 0:\n",
        "        if jogador == 0:\n",
        "            empate += 1\n",
        "        elif jogador == 1:\n",
        "            jogador_vence += 1\n",
        "        elif jogador == 2:\n",
        "            comp_vence += 1\n",
        "\n",
        "    elif computador == 1:\n",
        "        if jogador == 0:\n",
        "            comp_vence += 1\n",
        "        elif jogador == 1:\n",
        "            empate += 1\n",
        "        elif jogador == 2:\n",
        "            jogador_vence += 1\n",
        "\n",
        "    elif computador == 2:\n",
        "        if jogador == 0:\n",
        "            jogador_vence += 1\n",
        "        elif jogador == 1:\n",
        "            comp_vence += 1\n",
        "        elif jogador == 2:\n",
        "            empate += 1\n",
        "\n",
        "    print(f'''\\033[31mPONTUAÇÃO\\033[m\n",
        "Você : {jogador_vence}\n",
        "Computador: {comp_vence}''')\n",
        "    jogar = str(input('\\nDeseja continuar a jogar? '\n",
        "                      '[S/N] ')).upper().strip()[0]\n",
        "    while jogar not in 'SN':\n",
        "        jogar = str(input('Digite um dado válido. Deseja continuar a jogar? [S/N] ')).upper().strip()[0]\n",
        "\n",
        "else:\n",
        "    if jogador_vence > comp_vence:\n",
        "        print(f'\\nVocê venceu o computador por {jogador_vence} a {comp_vence}.')\n",
        "    elif jogador_vence < comp_vence:\n",
        "        print(f'\\nO computador venceu você por {comp_vence} a {jogador_vence}.')\n",
        "    elif jogador_vence == comp_vence:\n",
        "        print(f'\\nEmpate.')"
      ],
      "execution_count": 1,
      "outputs": []
    }
  ]
}