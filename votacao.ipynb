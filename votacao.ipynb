{
  "nbformat": 4,
  "nbformat_minor": 0,
  "metadata": {
    "colab": {
      "name": "Untitled6.ipynb",
      "provenance": [],
      "authorship_tag": "ABX9TyPy3sAOkyBgAKFQrlbdVPAH",
      "include_colab_link": true
    },
    "kernelspec": {
      "name": "python3",
      "display_name": "Python 3"
    },
    "language_info": {
      "name": "python"
    }
  },
  "cells": [
    {
      "cell_type": "markdown",
      "metadata": {
        "id": "view-in-github",
        "colab_type": "text"
      },
      "source": [
        "<a href=\"https://colab.research.google.com/github/luizscoimbra/Exercicio-python/blob/main/votacao.ipynb\" target=\"_parent\"><img src=\"https://colab.research.google.com/assets/colab-badge.svg\" alt=\"Open In Colab\"/></a>"
      ]
    },
    {
      "cell_type": "code",
      "metadata": {
        "colab": {
          "base_uri": "https://localhost:8080/"
        },
        "id": "spSXnWcPbXzt",
        "outputId": "56be9364-d4dd-487a-e141-30ebbc355f01"
      },
      "source": [
        "print ('candidato (JR ) DIGITE 3')\n",
        "print ('candidato (OA ) DIGITE 6')\n",
        "print ('candidato (IO ) DIGITE 9')\n",
        "6\n",
        "candidato1 = 0\n",
        "candidato2 = 0\n",
        "candidato3 = 0\n",
        "\n",
        "for c in range(10):\n",
        "  cand = int(input ('Digite o numero do candidato: '))\n",
        "  if cand == 3:\n",
        "    candidato1 = candidato1 +1\n",
        "  elif cand == 6:\n",
        "    candidato2 = candidato2 +1\n",
        "  elif cand ==9:\n",
        "    candidato3 = candidato3 +1\n",
        "\n",
        "print('_'*30)\n",
        "print ('Candidato (JR) recebeu: ',candidato1, 'votos')\n",
        "print ('Candidato (OA) recebeu: ',candidato2, 'votos')\n",
        "print ('Candidato (IO) recebeu: ',candidato3, 'votos')"
      ],
      "execution_count": 3,
      "outputs": [
        {
          "output_type": "stream",
          "text": [
            "candidato (JR ) DIGITE 3\n",
            "candidato (OA ) DIGITE 6\n",
            "candidato (IO ) DIGITE 9\n",
            "Digite o numero do candidato: 6\n",
            "Digite o numero do candidato: 6\n",
            "Digite o numero do candidato: 6\n",
            "Digite o numero do candidato: 3\n",
            "Digite o numero do candidato: 6\n",
            "Digite o numero do candidato: 9\n",
            "Digite o numero do candidato: 9\n",
            "Digite o numero do candidato: 6\n",
            "Digite o numero do candidato: 6\n",
            "Digite o numero do candidato: 6\n",
            "______________________________\n",
            "Candidato (JR) recebeu:  1 votos\n",
            "Candidato (OA) recebeu:  7 votos\n",
            "Candidato (IO) recebeu:  2 votos\n"
          ],
          "name": "stdout"
        }
      ]
    }
  ]
}