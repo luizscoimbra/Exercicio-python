{
  "nbformat": 4,
  "nbformat_minor": 0,
  "metadata": {
    "colab": {
      "name": "Exercicios_Codelab_Aula_04.ipynb",
      "provenance": [],
      "include_colab_link": true
    },
    "kernelspec": {
      "name": "python3",
      "display_name": "Python 3"
    },
    "language_info": {
      "name": "python"
    }
  },
  "cells": [
    {
      "cell_type": "markdown",
      "metadata": {
        "id": "view-in-github",
        "colab_type": "text"
      },
      "source": [
        "<a href=\"https://colab.research.google.com/github/luizscoimbra/Exercicio-python/blob/main/Exercicios_Codelab_Aula_04.ipynb\" target=\"_parent\"><img src=\"https://colab.research.google.com/assets/colab-badge.svg\" alt=\"Open In Colab\"/></a>"
      ]
    },
    {
      "cell_type": "markdown",
      "metadata": {
        "id": "SW-cnnj3AAlE"
      },
      "source": [
        "## Exercício 01\n",
        "\n",
        "Faça um programa que pergunte ao usuário um número e valide se o numero é par ou impar:\n",
        "\n",
        "* Crie uma variável para receber o valor, com conversão para int\n",
        "* Para um número ser par, a divisão dele por 2 tem que dar resto 0"
      ]
    },
    {
      "cell_type": "code",
      "metadata": {
        "id": "ZeuCDPZQFT9T",
        "colab": {
          "base_uri": "https://localhost:8080/"
        },
        "outputId": "770621cf-3ff0-49cf-efae-477f6a50e8cc"
      },
      "source": [
        "num = int(input(\"Digite um número: \"))\n",
        "if (num % 2 == 0):\n",
        "    print(\"Número par.\")\n",
        "else:\n",
        "    print(\"Número ímpar\")"
      ],
      "execution_count": 32,
      "outputs": [
        {
          "output_type": "stream",
          "text": [
            "Digite um número: 1\n",
            "Número ímpar\n"
          ],
          "name": "stdout"
        }
      ]
    },
    {
      "cell_type": "markdown",
      "metadata": {
        "id": "jXVUBuN3DcU-"
      },
      "source": [
        "## Exercício 02\n",
        "\n",
        "> Parte 1\n",
        "\n",
        "Faça um script que peça um valor e mostre na tela se o valor é positivo ou negativo.\n",
        "\n",
        "> Parte 2\n",
        "\n",
        "Agora implemente a funcionalidade de não aceitar o número 0, no input. (esse vai além do explicado até agora)"
      ]
    },
    {
      "cell_type": "code",
      "metadata": {
        "id": "bsM4V6SeHwJr",
        "colab": {
          "base_uri": "https://localhost:8080/"
        },
        "outputId": "0e619254-56db-40a1-c5cf-82da1fb67a25"
      },
      "source": [
        "numero = float(input('Digite um valor: '))\n",
        "\n",
        "if numero == 0:\n",
        "  print('Numero neutro')\n",
        "elif numero > 0:\n",
        "  print('Positivo')\n",
        "else:\n",
        "  print('Negativo')"
      ],
      "execution_count": 31,
      "outputs": [
        {
          "output_type": "stream",
          "text": [
            "Digite um valor: 1\n",
            "Positivo\n"
          ],
          "name": "stdout"
        }
      ]
    },
    {
      "cell_type": "markdown",
      "metadata": {
        "id": "90mUizLXOKd3"
      },
      "source": [
        "## Exercício 03\n",
        "\n",
        "Faça um programa que peça dois números, imprima o maior deles ou imprima \"Numeros iguais\" se os números forem iguais."
      ]
    },
    {
      "cell_type": "code",
      "metadata": {
        "id": "7yXB2kfUVYuD",
        "colab": {
          "base_uri": "https://localhost:8080/"
        },
        "outputId": "fe667721-e132-4cfe-d065-867f8c901bc9"
      },
      "source": [
        "n1 = int(input('Primeiro numero: '))\n",
        "n2 = int(input('Segundo numero: '))\n",
        "\n",
        "if n1 == n2:\n",
        "  print('Números iguais')\n",
        "elif n1>n2:\n",
        "  print(f'O maior é {n1}')\n",
        "else:\n",
        "  print(f'O maior é {n2}')"
      ],
      "execution_count": 30,
      "outputs": [
        {
          "output_type": "stream",
          "text": [
            "Primeiro numero: 90\n",
            "Segundo numero: 10\n",
            "O maior é 90\n"
          ],
          "name": "stdout"
        }
      ]
    },
    {
      "cell_type": "markdown",
      "metadata": {
        "id": "9BATv7tsOWOI"
      },
      "source": [
        "## Exercício 04\n",
        "\n",
        "Crie um programa que verifique se uma letra digitada é \"F\" ou \"M\". Conforme a letra, escrever: F - Feminino, M - Masculino, caso escreva outra letra: Sexo Biológico Inválido."
      ]
    },
    {
      "cell_type": "code",
      "metadata": {
        "id": "pRm8kyI7Wnp4",
        "colab": {
          "base_uri": "https://localhost:8080/"
        },
        "outputId": "fbc0bd81-17e9-4fdd-fda9-62d38feb4c04"
      },
      "source": [
        "resposta = input('Digite qual seu sexo biologico? [F/M]').strip().upper()[0]\n",
        "\n",
        "if resposta == 'F':\n",
        "  print('Feminino')\n",
        "elif respota == 'M':\n",
        "  print('Masculino')\n",
        "else:\n",
        "  print('Sexo biologico invalido')"
      ],
      "execution_count": 29,
      "outputs": [
        {
          "output_type": "stream",
          "text": [
            "Digite qual seu sexo biologico? [F/M]F\n",
            "Feminino\n"
          ],
          "name": "stdout"
        }
      ]
    },
    {
      "cell_type": "markdown",
      "metadata": {
        "id": "WX2j2ITtY3G5"
      },
      "source": [
        "### Exercício 05\n",
        "\n",
        "Crie um programa em Python que peça a nota do aluno, que deve ser um float entre 0.00 e 10.0\n",
        "\n",
        "* Se a nota for menor que 6.0, deve exibir a nota F.\n",
        "\n",
        "* Se a nota for de 6.0 até 7.0, deve exibir a nota D.\n",
        "\n",
        "* Se a nota for entre 7.0 e 8.0, deve exibir a nota C.\n",
        "\n",
        "* Se a nota for entre 8.0 e 9.0, deve exibir a nota B.\n",
        "\n",
        "* Por fim, se for entre 9.0 e 10.0, deve exibir um belo de um A."
      ]
    },
    {
      "cell_type": "code",
      "metadata": {
        "id": "4CjqLlFWY5Z-",
        "colab": {
          "base_uri": "https://localhost:8080/"
        },
        "outputId": "c0a043b4-56d2-466e-8c3c-04a246e9f332"
      },
      "source": [
        "numero = float(input('Digite um valor ate 10.0: '))\n",
        "\n",
        "if numero < 6:\n",
        "  print (f'Nota F')\n",
        "elif numero >=6.0 <=7.0:\n",
        "  print (f'Nota D')\n",
        "elif numero >7.0 <=8.0:\n",
        "  print (f'Nota C')\n",
        "elif numero >8.0  <=9.0:\n",
        "  print (f'Nota B')\n",
        "elif numero >9.0  <=10.0:\n",
        "  print (f'Nota A')\n"
      ],
      "execution_count": 26,
      "outputs": [
        {
          "output_type": "stream",
          "text": [
            "Digite um valor ate 10.0: 10\n",
            "Nota D\n"
          ],
          "name": "stdout"
        }
      ]
    },
    {
      "cell_type": "markdown",
      "metadata": {
        "id": "xep4W_T-s-Ra"
      },
      "source": [
        "# *Mini Projetos*"
      ]
    },
    {
      "cell_type": "markdown",
      "metadata": {
        "id": "4YbMlSEZG7UM"
      },
      "source": [
        "## **PROJETO 01**\n",
        "\n",
        "*   Escreva um programa que receba uma string digitada pelo usuário;\n",
        "*   Caso a string seja \"medieval\", exiba no console \"espada\";\n",
        "*   Caso contrário, se a string for \"futurista\", exiba no console \"sabre de luz\";\n",
        "*   Caso contrário, exiba no console \"Tente novamente\""
      ]
    },
    {
      "cell_type": "code",
      "metadata": {
        "id": "tn9QH5pVG8Rq",
        "colab": {
          "base_uri": "https://localhost:8080/",
          "height": 131
        },
        "outputId": "ab32f650-275d-405e-b113-59f10518c25e"
      },
      "source": [
        "# Resposta:\n",
        "var1 = input('Digite MEDIEVAL ou FUTURISTA: ')\n",
        "\n",
        "if (var1 = 'MEDIEVAL')\n",
        "print(f'ESPADA')\n",
        "elif (var1 = 'FUTURISTA')\n",
        "print(f'SABRE DE LUZ')"
      ],
      "execution_count": 40,
      "outputs": [
        {
          "output_type": "error",
          "ename": "SyntaxError",
          "evalue": "ignored",
          "traceback": [
            "\u001b[0;36m  File \u001b[0;32m\"<ipython-input-40-b0357be82d7c>\"\u001b[0;36m, line \u001b[0;32m4\u001b[0m\n\u001b[0;31m    if (var1 = 'MEDIEVAL')\u001b[0m\n\u001b[0m             ^\u001b[0m\n\u001b[0;31mSyntaxError\u001b[0m\u001b[0;31m:\u001b[0m invalid syntax\n"
          ]
        }
      ]
    },
    {
      "cell_type": "markdown",
      "metadata": {
        "id": "zUGk1OiNHDik"
      },
      "source": [
        "## **PROJETO 02**\n",
        "\n",
        "* Escreva um programa que receba um ataque de espada ou sabre digitada pelo usuário;\n",
        "\n",
        "* Caso o ataque seja \"espada\", exiba no console \"VOCÊ AINDA NÃO MATOU O CHEFÃO\";\n",
        "\n",
        "* Caso contrário, se o ataque for \"sabre\", exiba no console \"VOCÊ DERROTOU O CHEFÃO COM O SABRE DE LUZ\";\n",
        "\n",
        "* Caso contrário, exiba no console \"ATAQUE NOVAMENTE\""
      ]
    },
    {
      "cell_type": "code",
      "metadata": {
        "id": "eNZokIIOHHkp"
      },
      "source": [
        "# Resposta:"
      ],
      "execution_count": null,
      "outputs": []
    },
    {
      "cell_type": "markdown",
      "metadata": {
        "id": "NRhLAMa6ZfqU"
      },
      "source": [
        "## **DESAFIO 01**\n",
        "\n",
        "**Reajuste salarial**\n",
        "\n",
        "As empresas @.com resolveram dar um aumento de salário aos seus colaboradores e lhe contrataram para desenvolver o programa que calculará os reajustes.\n",
        "\n",
        "Faça um programa que recebe o salário de um colaborador e o reajuste segundo o seguinte critério, baseado no salário atual:\n",
        "* salários até R$ 280,00 (incluindo) : aumento de 20%\n",
        "\n",
        "* salários entre R\\$ 280,00 e R$ 700,00 : aumento de 15%\n",
        "\n",
        "* salários entre R\\$ 700,00 e R$ 1500,00 : aumento de 10%\n",
        "\n",
        "* salários de R$ 1500,00 em diante : aumento de 5% \n",
        "\n",
        "Após o aumento ser realizado, informe na tela:\n",
        "* o salário antes do reajuste;\n",
        "\n",
        "* o percentual de aumento aplicado;\n",
        "\n",
        "* o valor do aumento;\n",
        "\n",
        "* o novo salário, após o aumento.\""
      ]
    },
    {
      "cell_type": "code",
      "metadata": {
        "id": "VpC5oZINZXzt"
      },
      "source": [
        ""
      ],
      "execution_count": null,
      "outputs": []
    },
    {
      "cell_type": "markdown",
      "metadata": {
        "id": "HvThpbU4aBGy"
      },
      "source": [
        "## **DESAFIO 02**\n",
        "\n",
        "**Jogo da adivinhação**\n",
        "\n",
        "Escreva um programa que faça o computador “pensar” em um número inteiro entre 0 e 10 e peça para o usuário tentar descobrir qual foi o número escolhido pelo computador. O programa deverá escrever na tela se o usuário venceu ou perdeu."
      ]
    },
    {
      "cell_type": "code",
      "metadata": {
        "id": "TVeHZbyQZIzO"
      },
      "source": [
        ""
      ],
      "execution_count": null,
      "outputs": []
    },
    {
      "cell_type": "markdown",
      "metadata": {
        "id": "mjLFAUooaOH1"
      },
      "source": [
        "## **Desafio 03**\n",
        "\n",
        "**Caixa eletrônico**\n",
        "\n",
        "Faça um Programa para um caixa eletrônico. O programa deverá perguntar ao usuário a valor do saque e depois informar quantas notas de cada valor serão fornecidas. As notas disponíveis serão as de 1, 5, 10, 50 e 100 reais. O valor mínimo é de 10 reais e o máximo de 600 reais. O programa não deve se preocupar com a quantidade de notas existentes na máquina.\n",
        "\n",
        "* Exemplo 1: Para sacar a quantia de 256 reais, o programa fornece duas notas de 100, uma nota de 50, uma nota de 5 e uma nota de 1;\n",
        "\n",
        "* Exemplo 2: Para sacar a quantia de 399 reais, o programa fornece três notas de 100, uma nota de 50, quatro notas de 10, uma nota de 5 e quatro notas de 1.\n",
        "\n"
      ]
    },
    {
      "cell_type": "code",
      "metadata": {
        "id": "sH65bTx-ZMLh"
      },
      "source": [
        ""
      ],
      "execution_count": null,
      "outputs": []
    }
  ]
}