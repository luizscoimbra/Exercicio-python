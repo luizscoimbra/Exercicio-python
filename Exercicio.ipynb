{
  "nbformat": 4,
  "nbformat_minor": 0,
  "metadata": {
    "colab": {
      "name": "Untitled0.ipynb",
      "provenance": [],
      "authorship_tag": "ABX9TyMjGA/AEgUd7NJ9XTi/tiZ8",
      "include_colab_link": true
    },
    "kernelspec": {
      "name": "python3",
      "display_name": "Python 3"
    },
    "language_info": {
      "name": "python"
    }
  },
  "cells": [
    {
      "cell_type": "markdown",
      "metadata": {
        "id": "view-in-github",
        "colab_type": "text"
      },
      "source": [
        "<a href=\"https://colab.research.google.com/github/luizscoimbra/Exercicio-python/blob/main/Exercicio.ipynb\" target=\"_parent\"><img src=\"https://colab.research.google.com/assets/colab-badge.svg\" alt=\"Open In Colab\"/></a>"
      ]
    },
    {
      "cell_type": "code",
      "metadata": {
        "colab": {
          "base_uri": "https://localhost:8080/"
        },
        "id": "1_fj2HZcEdg4",
        "outputId": "2675f9fa-9d1a-499c-bbea-b963c81a9dc2"
      },
      "source": [
        "print(\"Olá Mundo\")"
      ],
      "execution_count": null,
      "outputs": [
        {
          "output_type": "stream",
          "text": [
            "Olá Mundo\n"
          ],
          "name": "stdout"
        }
      ]
    },
    {
      "cell_type": "code",
      "metadata": {
        "colab": {
          "base_uri": "https://localhost:8080/"
        },
        "id": "nKH53T46Pbvv",
        "outputId": "951a49e5-c6d0-4ec6-9bf6-29274bfd9b07"
      },
      "source": [
        "nome = 'Luiz '\n",
        "email = 'luizscoimbra@gmail.com'\n",
        "concatenacao = nome + email\n",
        "\n",
        "print(concatenacao)"
      ],
      "execution_count": null,
      "outputs": [
        {
          "output_type": "stream",
          "text": [
            "Luiz luizscoimbra@gmail.com\n"
          ],
          "name": "stdout"
        }
      ]
    },
    {
      "cell_type": "code",
      "metadata": {
        "colab": {
          "base_uri": "https://localhost:8080/"
        },
        "id": "v2GhWcVQG4jU",
        "outputId": "49ad09d4-1d65-4297-f077-0320a72e2981"
      },
      "source": [
        "idade = 27\n",
        "print(idade)"
      ],
      "execution_count": null,
      "outputs": [
        {
          "output_type": "stream",
          "text": [
            "27\n"
          ],
          "name": "stdout"
        }
      ]
    },
    {
      "cell_type": "code",
      "metadata": {
        "colab": {
          "base_uri": "https://localhost:8080/"
        },
        "id": "03Vn0qjbJQAL",
        "outputId": "0cb09804-272a-4db4-aca8-3733c5697a39"
      },
      "source": [
        "print(type(idade))"
      ],
      "execution_count": null,
      "outputs": [
        {
          "output_type": "stream",
          "text": [
            "<class 'int'>\n"
          ],
          "name": "stdout"
        }
      ]
    },
    {
      "cell_type": "code",
      "metadata": {
        "colab": {
          "base_uri": "https://localhost:8080/"
        },
        "id": "JQU8dwXuKKDE",
        "outputId": "712d3603-4f32-4d6d-ca60-5fdf245d806b"
      },
      "source": [
        "idade = '27'\n",
        "ano = 2021\n",
        "nasc = ano - int(idade)\n",
        "print(f'O ano de nascimento do Thiago é: {nasc}')"
      ],
      "execution_count": null,
      "outputs": [
        {
          "output_type": "stream",
          "text": [
            "O ano de nascimento do Thiago é: 1994\n"
          ],
          "name": "stdout"
        }
      ]
    },
    {
      "cell_type": "code",
      "metadata": {
        "colab": {
          "base_uri": "https://localhost:8080/",
          "height": 244
        },
        "id": "sRByTwAHMohj",
        "outputId": "de66fbbf-df49-436a-ba1e-a7c19f5f7c35"
      },
      "source": [
        "idade = int(input('Digite sua idade'))\n",
        "nome = input('Digite seu nome')\n",
        "ano = 2021\n",
        "nasc = ano - idade\n",
        "print(f'O ano de nascimento do {nasc}')"
      ],
      "execution_count": null,
      "outputs": [
        {
          "output_type": "stream",
          "text": [
            "Digite sua idade38\n",
            "Digite seu nomeluiz\n"
          ],
          "name": "stdout"
        },
        {
          "output_type": "error",
          "ename": "TypeError",
          "evalue": "ignored",
          "traceback": [
            "\u001b[0;31m---------------------------------------------------------------------------\u001b[0m",
            "\u001b[0;31mTypeError\u001b[0m                                 Traceback (most recent call last)",
            "\u001b[0;32m<ipython-input-39-8350847024ae>\u001b[0m in \u001b[0;36m<module>\u001b[0;34m()\u001b[0m\n\u001b[1;32m      3\u001b[0m \u001b[0mano\u001b[0m \u001b[0;34m=\u001b[0m \u001b[0;36m2021\u001b[0m\u001b[0;34m\u001b[0m\u001b[0;34m\u001b[0m\u001b[0m\n\u001b[1;32m      4\u001b[0m \u001b[0mnasc\u001b[0m \u001b[0;34m=\u001b[0m \u001b[0mano\u001b[0m \u001b[0;34m-\u001b[0m \u001b[0midade\u001b[0m\u001b[0;34m\u001b[0m\u001b[0;34m\u001b[0m\u001b[0m\n\u001b[0;32m----> 5\u001b[0;31m \u001b[0mprint\u001b[0m\u001b[0;34m(\u001b[0m\u001b[0;34mf'O ano de nascimento do {nasc}'\u001b[0m\u001b[0;34m)\u001b[0m\u001b[0;34m\u001b[0m\u001b[0;34m\u001b[0m\u001b[0m\n\u001b[0m",
            "\u001b[0;31mTypeError\u001b[0m: 'str' object is not callable"
          ]
        }
      ]
    },
    {
      "cell_type": "code",
      "metadata": {
        "colab": {
          "base_uri": "https://localhost:8080/"
        },
        "id": "4oJJJEpIN24M",
        "outputId": "e8594b5e-1d5c-4aa7-d496-f82761bafe1f"
      },
      "source": [
        "print ('Ola mundo! Esse é o meu primeiro programa')"
      ],
      "execution_count": null,
      "outputs": [
        {
          "output_type": "stream",
          "text": [
            "Ola mundo! Esse é o meu primeiro programa\n"
          ],
          "name": "stdout"
        }
      ]
    },
    {
      "cell_type": "code",
      "metadata": {
        "colab": {
          "base_uri": "https://localhost:8080/"
        },
        "id": "CHjIq_yvOftr",
        "outputId": "4f38b8b9-3d5d-4e2d-9b72-23d9eac75932"
      },
      "source": [
        "nome = input('Digite seu nome')\n",
        "print(f'Olá {nome}! Seja bem vinda ao fantastico mundo da programação!')"
      ],
      "execution_count": null,
      "outputs": [
        {
          "output_type": "stream",
          "text": [
            "Digite seu nomeJoão\n",
            "Olá João! Seja bem vinda ao fantastico mundo da programação!\n"
          ],
          "name": "stdout"
        }
      ]
    },
    {
      "cell_type": "code",
      "metadata": {
        "colab": {
          "base_uri": "https://localhost:8080/"
        },
        "id": "wRnqOybbOBtD",
        "outputId": "33fe3f28-3fcf-4b6f-976f-6e0395f4fcc7"
      },
      "source": [
        "print ('Nome: Luiz Alberto Coimbra')\n",
        "print ('Endereçõ: Rua Suécia, 444 - Pacheco')\n",
        "print ('CEP: 87.780-000')"
      ],
      "execution_count": null,
      "outputs": [
        {
          "output_type": "stream",
          "text": [
            "Nome: Luiz Alberto Coimbra\n",
            "Endereçõ: Rua Suécia, 444 - Pacheco\n",
            "CEP: 87.780-000\n"
          ],
          "name": "stdout"
        }
      ]
    },
    {
      "cell_type": "code",
      "metadata": {
        "id": "nP026dVSRopQ"
      },
      "source": [
        ""
      ],
      "execution_count": null,
      "outputs": []
    },
    {
      "cell_type": "code",
      "metadata": {
        "colab": {
          "base_uri": "https://localhost:8080/"
        },
        "id": "HmkdHRIftbRI",
        "outputId": "a50b89fe-52e9-482d-a466-b339a7769bc2"
      },
      "source": [
        "nome = input('Digite seu nome: ')\n",
        "\n",
        "print(f'Olá {nome}')"
      ],
      "execution_count": null,
      "outputs": [
        {
          "output_type": "stream",
          "text": [
            "Digite seu nome: Luiz\n",
            "Olá Luiz\n"
          ],
          "name": "stdout"
        }
      ]
    },
    {
      "cell_type": "code",
      "metadata": {
        "id": "V6IsEiFlyx24",
        "colab": {
          "base_uri": "https://localhost:8080/"
        },
        "outputId": "77a73ca8-5943-4d15-aac5-8ae2e14bc1ff"
      },
      "source": [
        "print ('O primeiro program a gente nunca esquece!') "
      ],
      "execution_count": null,
      "outputs": [
        {
          "output_type": "stream",
          "text": [
            "O primeiro program a gente nunca esquece!\n"
          ],
          "name": "stdout"
        }
      ]
    },
    {
      "cell_type": "code",
      "metadata": {
        "colab": {
          "base_uri": "https://localhost:8080/"
        },
        "id": "uYdxkoSW8VNi",
        "outputId": "39954c80-07b2-4d13-9945-64e03a05025e"
      },
      "source": [
        "nome = input('Digite seu nome completo: ')\n",
        "endereco = input('Digite seu endereço: ')\n",
        "cep = input('Digite seu CEP')\n",
        "\n",
        "print (f\"Nome completo:{nome}\")\n",
        "print (f\"Endereço: {endereco}\")\n",
        "print (f\"CEP: {cep}\")"
      ],
      "execution_count": null,
      "outputs": [
        {
          "output_type": "stream",
          "text": [
            "Digite seu nome completo: LUIZ ALBERTO COIMBRA\n",
            "Digite seu endereço: RUA SUECIA 444\n",
            "Digite seu CEP78600-000\n",
            "Nome completo:LUIZ ALBERTO COIMBRA\n",
            "Endereço: RUA SUECIA 444\n",
            "CEP: 78600-000\n"
          ],
          "name": "stdout"
        }
      ]
    },
    {
      "cell_type": "code",
      "metadata": {
        "colab": {
          "base_uri": "https://localhost:8080/"
        },
        "id": "a5qWkYIS9lXY",
        "outputId": "e074d6ba-6bac-48af-b90e-4676c4337e6f"
      },
      "source": [
        "letra = input('Digite a letra de sua música prefereida:')\n",
        "\n",
        "print (f\"{letra}\")"
      ],
      "execution_count": null,
      "outputs": [
        {
          "output_type": "stream",
          "text": [
            "Digite a letra de sua música prefereida:Tudo o que eu queria agora Era ter seu abraço Deitar no teu colo Me prender ao laço Vivo na saudade Fico aqui sozinho, te esperando\n",
            "Tudo o que eu queria agora Era ter seu abraço Deitar no teu colo Me prender ao laço Vivo na saudade Fico aqui sozinho, te esperando\n"
          ],
          "name": "stdout"
        }
      ]
    },
    {
      "cell_type": "code",
      "metadata": {
        "colab": {
          "base_uri": "https://localhost:8080/"
        },
        "id": "Vkl-D5IX-mNC",
        "outputId": "2ecc1d11-81f1-4088-a006-4f81c399d0a8"
      },
      "source": [
        "aluno1 = input(\"Digite o nome do aluno 1:\")\n",
        "nota1 = input(\"Digite a nota do aluno 1:\")\n",
        "aluno2 = input(\"Digite o nome do aluno 2:\")\n",
        "nota2 = input(\"Digite a nota do aluno 2:\")\n",
        "aluno3 = input(\"Digite o nome do aluno 3:\")\n",
        "nota3 = input(\"Digite a nota do aluno 3:\")\n",
        "aluno4 = input(\"Digite o nome do aluno 4:\")\n",
        "nota4 = input(\"Digite a nota do aluno 4:\")\n",
        "print (\"ALUNO(A) /  NOTA\")\n",
        "print (\"==================\")\n",
        "print (f\"{aluno1} Nota: {nota1}\")\n",
        "print (f\"{aluno2} Nota: {nota2}\")\n",
        "print (f\"{aluno3} Nota: {nota3}\")\n",
        "print (f\"{aluno4} Nota: {nota4}\")"
      ],
      "execution_count": null,
      "outputs": [
        {
          "output_type": "stream",
          "text": [
            "Digite o nome do aluno 1:LUIZ\n",
            "Digite a nota do aluno 1:10\n",
            "Digite o nome do aluno 2:ALINE\n",
            "Digite a nota do aluno 2:10\n",
            "Digite o nome do aluno 3:FERNANDO\n",
            "Digite a nota do aluno 3:10\n",
            "Digite o nome do aluno 4:MARIA LUIZA\n",
            "Digite a nota do aluno 4:10\n",
            "ALUNO(A) /  NOTA\n",
            "==================\n",
            "LUIZ Nota: 10\n",
            "ALINE Nota: 10\n",
            "FERNANDO Nota: 10\n",
            "MARIA LUIZA Nota: 10\n"
          ],
          "name": "stdout"
        }
      ]
    },
    {
      "cell_type": "code",
      "metadata": {
        "colab": {
          "base_uri": "https://localhost:8080/"
        },
        "id": "oAO_wVkUCwYT",
        "outputId": "8c35ec24-6b18-4fa0-fd1d-fd24e9ebca8a"
      },
      "source": [
        "qtd = int(input('Digite quantidade de vida do monstro: '))\n",
        "vlr = int(input('Digite valor do ataque por turno: '))\n",
        "turnos = qtd / vlr\n",
        "\n",
        "print = (f\"Voce levará {turnos} turnos\")\n",
        "\n"
      ],
      "execution_count": null,
      "outputs": [
        {
          "output_type": "stream",
          "text": [
            "Digite quantidade de vida do monstro: 50\n",
            "Digite valor do ataque por turno: 10\n"
          ],
          "name": "stdout"
        }
      ]
    }
  ]
}