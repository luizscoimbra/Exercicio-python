{
  "nbformat": 4,
  "nbformat_minor": 0,
  "metadata": {
    "colab": {
      "name": "Untitled5.ipynb",
      "provenance": [],
      "authorship_tag": "ABX9TyPAXFhT3D9NuctJVh7xJbDz",
      "include_colab_link": true
    },
    "kernelspec": {
      "name": "python3",
      "display_name": "Python 3"
    },
    "language_info": {
      "name": "python"
    }
  },
  "cells": [
    {
      "cell_type": "markdown",
      "metadata": {
        "id": "view-in-github",
        "colab_type": "text"
      },
      "source": [
        "<a href=\"https://colab.research.google.com/github/luizscoimbra/Exercicio-python/blob/main/PROJETO-03.ipynb\" target=\"_parent\"><img src=\"https://colab.research.google.com/assets/colab-badge.svg\" alt=\"Open In Colab\"/></a>"
      ]
    },
    {
      "cell_type": "code",
      "metadata": {
        "colab": {
          "base_uri": "https://localhost:8080/"
        },
        "id": "BsDKWtqSxs2n",
        "outputId": "1d89886c-3017-4e3b-fa03-35b156230d35"
      },
      "source": [
        "def lin(msg):\n",
        "    print('\\33c')\n",
        "    print('#'*45)\n",
        "    print(f'{\"#\":<}{msg:^43}{\"#\":>}')\n",
        "    print('#'*45)\n",
        "\n",
        "from random import randint\n",
        "from time import sleep\n",
        "from operator import itemgetter\n",
        "\n",
        "org = list()\n",
        "dado = dict()\n",
        "print('Números sorteados:\\n')\n",
        "for c in range(1, 6):\n",
        "    dado[f'Jogador {c}'] = randint(1,6)\n",
        "\n",
        "for k, v in dado.items():\n",
        "    print(f\"   O {k} tirou: {v}\")\n",
        "    sleep(0.90)\n",
        "org = sorted(dado.items(), key=itemgetter(1), reverse=True )\n",
        "lin('PLACAR')\n",
        "for i, v in enumerate(org):\n",
        "    print(f'   {i+1}º lugar: {v[0]} veze(s) com número: {v[1]}')"
      ],
      "execution_count": 2,
      "outputs": [
        {
          "output_type": "stream",
          "text": [
            "Números sorteados:\n",
            "\n",
            "   O Jogador 1 tirou: 3\n",
            "   O Jogador 2 tirou: 6\n",
            "   O Jogador 3 tirou: 3\n",
            "   O Jogador 4 tirou: 6\n",
            "   O Jogador 5 tirou: 1\n",
            "\u001bc\n",
            "#############################################\n",
            "#                  PLACAR                   #\n",
            "#############################################\n",
            "   1º lugar: Jogador 2 veze(s) com número: 6\n",
            "   2º lugar: Jogador 4 veze(s) com número: 6\n",
            "   3º lugar: Jogador 1 veze(s) com número: 3\n",
            "   4º lugar: Jogador 3 veze(s) com número: 3\n",
            "   5º lugar: Jogador 5 veze(s) com número: 1\n"
          ],
          "name": "stdout"
        }
      ]
    }
  ]
}