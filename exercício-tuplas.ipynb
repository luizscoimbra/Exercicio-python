{
  "nbformat": 4,
  "nbformat_minor": 0,
  "metadata": {
    "colab": {
      "name": "Untitled3.ipynb",
      "provenance": [],
      "authorship_tag": "ABX9TyPvTQzV1XE6bWY8eWgRh4Yy",
      "include_colab_link": true
    },
    "kernelspec": {
      "name": "python3",
      "display_name": "Python 3"
    },
    "language_info": {
      "name": "python"
    }
  },
  "cells": [
    {
      "cell_type": "markdown",
      "metadata": {
        "id": "view-in-github",
        "colab_type": "text"
      },
      "source": [
        "<a href=\"https://colab.research.google.com/github/luizscoimbra/Exercicio-python/blob/main/exerc%C3%ADcio-tuplas.ipynb\" target=\"_parent\"><img src=\"https://colab.research.google.com/assets/colab-badge.svg\" alt=\"Open In Colab\"/></a>"
      ]
    },
    {
      "cell_type": "code",
      "metadata": {
        "id": "BTiGYj4jGRF2"
      },
      "source": [
        "#EXERCICIO 01\n",
        "\n",
        "\n",
        "num = tuple(sample(range(50), 5))\n",
        "for i in num:\n",
        "    print(i, end=' ')\n",
        "print(f'''\n",
        "Maior valor sorteado: {max(num)}\n",
        "Menor valor sorteado: {min(num)}.''')"
      ],
      "execution_count": null,
      "outputs": []
    },
    {
      "cell_type": "code",
      "metadata": {
        "id": "1iQ_kkWDGW_b"
      },
      "source": [
        "#EXERCICIO 02\n",
        "\n",
        "num = (int(input('Valor 1: ')), int(input('Valor 2: ')), int(input('Valor 3: ')), int(input('Valor 4: ')))\n",
        "print(num)\n",
        "print(f'O número 9 aparece {num.count(9)} vezes.')\n",
        "if 3 in num:\n",
        "    print(f'O número 3 foi digitado pela primeira vez na posição {num.index(3)}')\n",
        "else:\n",
        "    print('O número 3 não foi digitado!')"
      ],
      "execution_count": null,
      "outputs": []
    }
  ]
}